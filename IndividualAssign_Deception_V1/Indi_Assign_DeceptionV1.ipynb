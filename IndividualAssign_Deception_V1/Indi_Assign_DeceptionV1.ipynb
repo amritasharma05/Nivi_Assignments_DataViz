{
 "cells": [
  {
   "cell_type": "markdown",
   "metadata": {
    "deletable": true,
    "editable": true
   },
   "source": [
    "## Individual Assignment - Deception Version 1"
   ]
  },
  {
   "cell_type": "markdown",
   "metadata": {
    "deletable": true,
    "editable": true
   },
   "source": [
    "### Background"
   ]
  },
  {
   "cell_type": "markdown",
   "metadata": {
    "deletable": true,
    "editable": true
   },
   "source": [
    "Data Product: \n",
    "[Vox - America's Unique Gun Control Problem](https://www.vox.com/policy-and-politics/2017/10/2/16399418/us-gun-violence-statistics-maps-charts)\n",
    "\n",
    "The author through this article is trying to communicate how amongst all other developed countries, America stands out in terms of gun violence. He uses 17 charts to build this context and tries to establish a connection between increased gun violence and ease of firearms access to people."
   ]
  },
  {
   "cell_type": "markdown",
   "metadata": {
    "deletable": true,
    "editable": true
   },
   "source": [
    "### Assignment Objective\n",
    "\n",
    "The aim of this assignment is to identify a few graphs that may seem to add evidence to a claim, but at a closer look, one would realize that the evidence isnt that strong enough to support the quoted argument"
   ]
  },
  {
   "cell_type": "markdown",
   "metadata": {
    "deletable": true,
    "editable": true
   },
   "source": [
    "### Chart I\n",
    "\n",
    "<img src=\"Decep_Image1.jpg\" width=\"400\" height=\"400\" align=\"right\"/>\n",
    "\n",
    "The author uses this graph probably to show that firearm homicide rates have come down, thus to give a counter argument that even though guns are a problem, the impact on homicide rates is much lesser than what it was 2 decades ago. \n",
    "\n",
    "**Counter Arguments**\n",
    "\n",
    "1. This article was updated in 2018, even then the homicide information until 2018 has not been included for a correct assessment\n",
    "2. If we look at trends from 1997 to 2016 (shown in the below graph), the homicide rates are either constant or increasing in some of the years as compared to 2010\n",
    "3. The author also mentions some of the popular reasons that the drop could be attributed to. This drop can be seen only in the years 1993 to 1997. Various laws including gun control laws have changed quite a bit since 1997, so showing this graph to make an argument is irrelevant as on date.  \n",
    "\n",
    "Hence I feel this graph is a **little** deceptive. If the same graph is plotted a little differently as shown below, the author will not be able to make similar claims as earlier.\n",
    "\n",
    "References:\n",
    "\n",
    "[Mortality Rate DB](https://webappa.cdc.gov/sasweb/ncipc/mortrate.html)\n",
    "[Mortality Rate Graphs](https://www.cdc.gov/nchs/data-visualization/injury-mortality/)\n",
    "[Gun Control Timeline](https://www.thoughtco.com/us-gun-control-timeline-3963620)"
   ]
  },
  {
   "cell_type": "code",
   "execution_count": 1,
   "metadata": {
    "collapsed": false,
    "deletable": true,
    "editable": true
   },
   "outputs": [
    {
     "name": "stdout",
     "output_type": "stream",
     "text": [
      "Populating the interactive namespace from numpy and matplotlib\n"
     ]
    }
   ],
   "source": [
    "import pandas as pd\n",
    "import numpy as np\n",
    "import seaborn as sns\n",
    "%pylab inline\n",
    "import sklearn as sk"
   ]
  },
  {
   "cell_type": "code",
   "execution_count": 2,
   "metadata": {
    "collapsed": true,
    "deletable": true,
    "editable": true
   },
   "outputs": [],
   "source": [
    "from pandas import ExcelWriter\n",
    "from pandas import ExcelFile\n",
    "import datetime"
   ]
  },
  {
   "cell_type": "markdown",
   "metadata": {
    "deletable": true,
    "editable": true
   },
   "source": [
    "**Method**\n",
    "\n",
    "We will be using the firearm homicide rate data from the Mortality Rate DB. We generate two files for the years 1981 to 1998, and then from 1999 to 2016. \n",
    "We will then merge the data set and plot it to give a complete view of the annual changes in the homicide rates."
   ]
  },
  {
   "cell_type": "code",
   "execution_count": 3,
   "metadata": {
    "collapsed": false,
    "deletable": true,
    "editable": true
   },
   "outputs": [],
   "source": [
    "Homicides_1981_to_1998 = pd.read_csv('1981-98Homicides.csv')"
   ]
  },
  {
   "cell_type": "code",
   "execution_count": 4,
   "metadata": {
    "collapsed": false,
    "deletable": true,
    "editable": true
   },
   "outputs": [],
   "source": [
    "Homicides_1981_to_1998 = Homicides_1981_to_1998[['Year','Crude Rate']]"
   ]
  },
  {
   "cell_type": "code",
   "execution_count": 5,
   "metadata": {
    "collapsed": true,
    "deletable": true,
    "editable": true
   },
   "outputs": [],
   "source": [
    "Homicides_1981_to_1998.rename(columns={'Crude Rate':'Homicide_Rate'}, inplace=True)"
   ]
  },
  {
   "cell_type": "code",
   "execution_count": 6,
   "metadata": {
    "collapsed": true,
    "deletable": true,
    "editable": true
   },
   "outputs": [],
   "source": [
    "Homicides_1999_to_2016 = pd.read_csv('1999-16Homicides.csv')"
   ]
  },
  {
   "cell_type": "code",
   "execution_count": 7,
   "metadata": {
    "collapsed": true,
    "deletable": true,
    "editable": true
   },
   "outputs": [],
   "source": [
    "Homicides_1999_to_2016.rename(columns={'Crude Rate':'Homicide_Rate'}, inplace=True)"
   ]
  },
  {
   "cell_type": "code",
   "execution_count": 8,
   "metadata": {
    "collapsed": false,
    "deletable": true,
    "editable": true
   },
   "outputs": [],
   "source": [
    "Homicides_1999_to_2016 = Homicides_1999_to_2016[['Year','Homicide_Rate']]"
   ]
  },
  {
   "cell_type": "code",
   "execution_count": 9,
   "metadata": {
    "collapsed": true,
    "deletable": true,
    "editable": true
   },
   "outputs": [],
   "source": [
    "Homicides_All = Homicides_1981_to_1998.append(Homicides_1999_to_2016)"
   ]
  },
  {
   "cell_type": "code",
   "execution_count": 10,
   "metadata": {
    "collapsed": false,
    "deletable": true,
    "editable": true
   },
   "outputs": [],
   "source": [
    "Homicides_All=Homicides_All.dropna()"
   ]
  },
  {
   "cell_type": "code",
   "execution_count": 11,
   "metadata": {
    "collapsed": true,
    "deletable": true,
    "editable": true
   },
   "outputs": [],
   "source": [
    "Homicides_All['Year']=Homicides_All['Year'].apply(lambda x: int(x))"
   ]
  },
  {
   "cell_type": "code",
   "execution_count": 12,
   "metadata": {
    "collapsed": false,
    "deletable": true,
    "editable": true
   },
   "outputs": [
    {
     "data": {
      "text/plain": [
       "Year               int64\n",
       "Homicide_Rate    float64\n",
       "dtype: object"
      ]
     },
     "execution_count": 12,
     "metadata": {},
     "output_type": "execute_result"
    }
   ],
   "source": [
    "Homicides_All.dtypes"
   ]
  },
  {
   "cell_type": "code",
   "execution_count": 13,
   "metadata": {
    "collapsed": false,
    "deletable": true,
    "editable": true
   },
   "outputs": [],
   "source": [
    "Homicides_1999_to_2010=Homicides_All[(Homicides_All.Year >=1999) & (Homicides_All.Year <= 2010)]"
   ]
  },
  {
   "cell_type": "code",
   "execution_count": 14,
   "metadata": {
    "collapsed": true,
    "deletable": true,
    "editable": true
   },
   "outputs": [],
   "source": [
    "Homicides_2009_to_2016=Homicides_All[(Homicides_All.Year >=2009) & (Homicides_All.Year <= 2016)]"
   ]
  },
  {
   "cell_type": "code",
   "execution_count": 15,
   "metadata": {
    "collapsed": false,
    "deletable": true,
    "editable": true
   },
   "outputs": [
    {
     "data": {
      "text/html": [
       "<div>\n",
       "<style>\n",
       "    .dataframe thead tr:only-child th {\n",
       "        text-align: right;\n",
       "    }\n",
       "\n",
       "    .dataframe thead th {\n",
       "        text-align: left;\n",
       "    }\n",
       "\n",
       "    .dataframe tbody tr th {\n",
       "        vertical-align: top;\n",
       "    }\n",
       "</style>\n",
       "<table border=\"1\" class=\"dataframe\">\n",
       "  <thead>\n",
       "    <tr style=\"text-align: right;\">\n",
       "      <th></th>\n",
       "      <th>Year</th>\n",
       "      <th>Homicide_Rate</th>\n",
       "    </tr>\n",
       "  </thead>\n",
       "  <tbody>\n",
       "    <tr>\n",
       "      <th>10</th>\n",
       "      <td>2009</td>\n",
       "      <td>3.75</td>\n",
       "    </tr>\n",
       "    <tr>\n",
       "      <th>11</th>\n",
       "      <td>2010</td>\n",
       "      <td>3.59</td>\n",
       "    </tr>\n",
       "    <tr>\n",
       "      <th>12</th>\n",
       "      <td>2011</td>\n",
       "      <td>3.55</td>\n",
       "    </tr>\n",
       "    <tr>\n",
       "      <th>13</th>\n",
       "      <td>2012</td>\n",
       "      <td>3.70</td>\n",
       "    </tr>\n",
       "    <tr>\n",
       "      <th>14</th>\n",
       "      <td>2013</td>\n",
       "      <td>3.54</td>\n",
       "    </tr>\n",
       "    <tr>\n",
       "      <th>15</th>\n",
       "      <td>2014</td>\n",
       "      <td>3.46</td>\n",
       "    </tr>\n",
       "    <tr>\n",
       "      <th>16</th>\n",
       "      <td>2015</td>\n",
       "      <td>4.04</td>\n",
       "    </tr>\n",
       "    <tr>\n",
       "      <th>17</th>\n",
       "      <td>2016</td>\n",
       "      <td>4.46</td>\n",
       "    </tr>\n",
       "  </tbody>\n",
       "</table>\n",
       "</div>"
      ],
      "text/plain": [
       "    Year  Homicide_Rate\n",
       "10  2009           3.75\n",
       "11  2010           3.59\n",
       "12  2011           3.55\n",
       "13  2012           3.70\n",
       "14  2013           3.54\n",
       "15  2014           3.46\n",
       "16  2015           4.04\n",
       "17  2016           4.46"
      ]
     },
     "execution_count": 15,
     "metadata": {},
     "output_type": "execute_result"
    }
   ],
   "source": [
    "Homicides_2009_to_2016"
   ]
  },
  {
   "cell_type": "markdown",
   "metadata": {
    "deletable": true,
    "editable": true
   },
   "source": [
    "### The Actual Complete Picture"
   ]
  },
  {
   "cell_type": "code",
   "execution_count": 16,
   "metadata": {
    "collapsed": false,
    "deletable": true,
    "editable": true,
    "scrolled": false
   },
   "outputs": [
    {
     "data": {
      "image/png": "[encoded data removed]",
      "text/plain": [
       "<matplotlib.figure.Figure at 0xe81f5c0>"
      ]
     },
     "metadata": {},
     "output_type": "display_data"
    }
   ],
   "source": [
    "sns.set(font_scale=1.25)\n",
    "g=sns.factorplot(x='Year',y='Homicide_Rate', data=Homicides_All,aspect=4,lw=3)\n",
    "g.set_xticklabels(rotation=60)\n",
    "g.set(title =\"Firearm Homicide Rates in the United States\");"
   ]
  },
  {
   "cell_type": "code",
   "execution_count": 17,
   "metadata": {
    "collapsed": false,
    "deletable": true,
    "editable": true,
    "scrolled": false
   },
   "outputs": [
    {
     "data": {
      "image/png": "[encoded data removed]",
      "text/plain": [
       "<matplotlib.figure.Figure at 0xe7dac50>"
      ]
     },
     "metadata": {},
     "output_type": "display_data"
    }
   ],
   "source": [
    "g=sns.factorplot(x='Year',y='Homicide_Rate', data=Homicides_1999_to_2016,aspect=4)\n",
    "g.set_xticklabels(rotation=60)\n",
    "g.set(title =\"Firearm Homicide Rates in the United States from 1999 to 2016\");"
   ]
  },
  {
   "cell_type": "markdown",
   "metadata": {
    "deletable": true,
    "editable": true
   },
   "source": [
    "**Looking at this chart, one may not clearly conclude that the homicide rates have reduced over the years**\n",
    "\n",
    "**The same graph may be plotted as below to show a completely opposite picture**"
   ]
  },
  {
   "cell_type": "code",
   "execution_count": 18,
   "metadata": {
    "collapsed": false,
    "deletable": true,
    "editable": true,
    "scrolled": true
   },
   "outputs": [
    {
     "data": {
      "image/png": "[encoded data removed]",
      "text/plain": [
       "<matplotlib.figure.Figure at 0xefcb630>"
      ]
     },
     "metadata": {},
     "output_type": "display_data"
    }
   ],
   "source": [
    "g=sns.regplot(x='Year',y='Homicide_Rate', data=Homicides_2009_to_2016);"
   ]
  },
  {
   "cell_type": "markdown",
   "metadata": {
    "deletable": true,
    "editable": true
   },
   "source": [
    "The regression plot seen above plotted for the years from 2009 to 2016 (which was not included in the author's plots) shows that the homicide rates is on an upward trend. So it is exactly the opposite of what the author claims. \n",
    "\n",
    "**Conclusion:** There is a need to view data in its entirety and understand the changes, explore the real reasons for the rise or the decline in homicide rates in certain years. This may then be used to propose the right gun violence control policies"
   ]
  },
  {
   "cell_type": "markdown",
   "metadata": {
    "deletable": true,
    "editable": true
   },
   "source": [
    "**____________________________________________________________________________________________________________________________**"
   ]
  },
  {
   "cell_type": "markdown",
   "metadata": {
    "deletable": true,
    "editable": true
   },
   "source": [
    "### Chart II    <img src=\"Decep_Image3.jpg\" width=\"400\" height=\"400\" align=\"right\"/>\n",
    "\n",
    "\n",
    "\n",
    "The author has tried to correlate reduced access of guns(due to mandatory gun buy back program) in Australia to a 74% drop In the firearm suicide rates from 1997 to 2006\n",
    "The graph depicted the way shown in the article initially also seems to support the author's claim. \n",
    "\n",
    "**Analysis**\n",
    "\n",
    "To verify this claim, I sourced actual suicide numbers along with the method of suicide for the years 1997 to 2006 from an Australian Government Website.\n",
    "I merged this data with the annual population statistics to arrive at the suicide rates per 100,000 people \n",
    "I finally divided the data into two groups based on the method of suicide - firearm and others and then plotted these rates over all the years i.e. from 1997 to 2006 \n",
    "\n",
    "[Australian Institute of Health and Welfare](https://www.aihw.gov.au/reports/injury/a-review-of-suicide-statistics-in-australia/contents/summary)\n",
    "[PDF Report](https://www.aihw.gov.au/getmedia/8d8a8344-59b4-43a7-8bd9-f4827a6105bb/injcat-121-10754.pdf.aspx?inline=true)\n",
    "\n",
    "[Australia Population](http://chartsbin.com/view/eoo)\n",
    "\n",
    "**Findings**\n",
    "\n",
    "1. Firearm suicide rates have reduced from 1997 to 2006, but not as substantially as seen in the Vox graph. The percentage reduction seems higher since the base no. itself is less i.e. 329 in 1997\n",
    "2. If we look at the new graph plotted, we can see that the decrease in the rate of suicide by other methods is much higher than the firearm suicide rate decrease\n",
    "3. Also, the overall suicide rates have reduced over the years. Hence, we cannot attribute the decrease in firearm suicides directly to the gun buy back program, since suicides in general has seen a decreasing trend in Australia\n",
    "\n",
    "**Limitations of Data**\n",
    "\n",
    "The AHS website itself mentions that there were issues in suicide reporting, and that this process changed from 2007 onwards to improve the completeness of data. The author has not taken this into account, which leads to misrepresented statistics.Such graphs cannot be used in such important topics as this, which might lead to incorrect decision making.\n",
    "\n",
    "**Conclusion**\n",
    "\n",
    "I feel the author's graph is completely deceptive\n"
   ]
  },
  {
   "cell_type": "code",
   "execution_count": 19,
   "metadata": {
    "collapsed": false,
    "deletable": true,
    "editable": true
   },
   "outputs": [],
   "source": [
    "Aus_Suicide=pd.read_csv(\"Australia_Suicide.csv\")"
   ]
  },
  {
   "cell_type": "code",
   "execution_count": 20,
   "metadata": {
    "collapsed": true,
    "deletable": true,
    "editable": true
   },
   "outputs": [],
   "source": [
    "Aus_Pop=pd.read_csv(\"Australia_Pop.csv\")"
   ]
  },
  {
   "cell_type": "code",
   "execution_count": 21,
   "metadata": {
    "collapsed": false,
    "deletable": true,
    "editable": true,
    "scrolled": true
   },
   "outputs": [
    {
     "data": {
      "text/html": [
       "<div>\n",
       "<style>\n",
       "    .dataframe thead tr:only-child th {\n",
       "        text-align: right;\n",
       "    }\n",
       "\n",
       "    .dataframe thead th {\n",
       "        text-align: left;\n",
       "    }\n",
       "\n",
       "    .dataframe tbody tr th {\n",
       "        vertical-align: top;\n",
       "    }\n",
       "</style>\n",
       "<table border=\"1\" class=\"dataframe\">\n",
       "  <thead>\n",
       "    <tr style=\"text-align: right;\">\n",
       "      <th></th>\n",
       "      <th>Year</th>\n",
       "      <th>Population</th>\n",
       "    </tr>\n",
       "  </thead>\n",
       "  <tbody>\n",
       "    <tr>\n",
       "      <th>0</th>\n",
       "      <td>1997</td>\n",
       "      <td>18609115</td>\n",
       "    </tr>\n",
       "    <tr>\n",
       "      <th>1</th>\n",
       "      <td>1998</td>\n",
       "      <td>18814276</td>\n",
       "    </tr>\n",
       "    <tr>\n",
       "      <th>2</th>\n",
       "      <td>1999</td>\n",
       "      <td>19038338</td>\n",
       "    </tr>\n",
       "    <tr>\n",
       "      <th>3</th>\n",
       "      <td>2000</td>\n",
       "      <td>19272644</td>\n",
       "    </tr>\n",
       "    <tr>\n",
       "      <th>4</th>\n",
       "      <td>2001</td>\n",
       "      <td>19533972</td>\n",
       "    </tr>\n",
       "    <tr>\n",
       "      <th>5</th>\n",
       "      <td>2002</td>\n",
       "      <td>19770963</td>\n",
       "    </tr>\n",
       "    <tr>\n",
       "      <th>6</th>\n",
       "      <td>2003</td>\n",
       "      <td>20011882</td>\n",
       "    </tr>\n",
       "    <tr>\n",
       "      <th>7</th>\n",
       "      <td>2004</td>\n",
       "      <td>20252132</td>\n",
       "    </tr>\n",
       "    <tr>\n",
       "      <th>8</th>\n",
       "      <td>2005</td>\n",
       "      <td>20544064</td>\n",
       "    </tr>\n",
       "    <tr>\n",
       "      <th>9</th>\n",
       "      <td>2006</td>\n",
       "      <td>20873663</td>\n",
       "    </tr>\n",
       "  </tbody>\n",
       "</table>\n",
       "</div>"
      ],
      "text/plain": [
       "   Year  Population\n",
       "0  1997    18609115\n",
       "1  1998    18814276\n",
       "2  1999    19038338\n",
       "3  2000    19272644\n",
       "4  2001    19533972\n",
       "5  2002    19770963\n",
       "6  2003    20011882\n",
       "7  2004    20252132\n",
       "8  2005    20544064\n",
       "9  2006    20873663"
      ]
     },
     "execution_count": 21,
     "metadata": {},
     "output_type": "execute_result"
    }
   ],
   "source": [
    "Aus_Pop"
   ]
  },
  {
   "cell_type": "code",
   "execution_count": 22,
   "metadata": {
    "collapsed": false,
    "deletable": true,
    "editable": true
   },
   "outputs": [],
   "source": [
    "Aus_Suicide['Other']=(Aus_Suicide['TotalSuicides'])-(Aus_Suicide['Firearms'])"
   ]
  },
  {
   "cell_type": "code",
   "execution_count": 23,
   "metadata": {
    "collapsed": false,
    "deletable": true,
    "editable": true
   },
   "outputs": [],
   "source": [
    "Aus_Suicide=Aus_Suicide[['Year','Firearms','Other']]"
   ]
  },
  {
   "cell_type": "code",
   "execution_count": 24,
   "metadata": {
    "collapsed": true,
    "deletable": true,
    "editable": true
   },
   "outputs": [],
   "source": [
    "Aus=Aus_Suicide.merge(Aus_Pop)"
   ]
  },
  {
   "cell_type": "code",
   "execution_count": 25,
   "metadata": {
    "collapsed": false,
    "deletable": true,
    "editable": true,
    "scrolled": true
   },
   "outputs": [
    {
     "data": {
      "text/html": [
       "<div>\n",
       "<style>\n",
       "    .dataframe thead tr:only-child th {\n",
       "        text-align: right;\n",
       "    }\n",
       "\n",
       "    .dataframe thead th {\n",
       "        text-align: left;\n",
       "    }\n",
       "\n",
       "    .dataframe tbody tr th {\n",
       "        vertical-align: top;\n",
       "    }\n",
       "</style>\n",
       "<table border=\"1\" class=\"dataframe\">\n",
       "  <thead>\n",
       "    <tr style=\"text-align: right;\">\n",
       "      <th></th>\n",
       "      <th>Year</th>\n",
       "      <th>Firearms</th>\n",
       "      <th>Other</th>\n",
       "      <th>Population</th>\n",
       "    </tr>\n",
       "  </thead>\n",
       "  <tbody>\n",
       "    <tr>\n",
       "      <th>0</th>\n",
       "      <td>1997</td>\n",
       "      <td>329</td>\n",
       "      <td>2393</td>\n",
       "      <td>18609115</td>\n",
       "    </tr>\n",
       "    <tr>\n",
       "      <th>1</th>\n",
       "      <td>1998</td>\n",
       "      <td>235</td>\n",
       "      <td>2448</td>\n",
       "      <td>18814276</td>\n",
       "    </tr>\n",
       "    <tr>\n",
       "      <th>2</th>\n",
       "      <td>1999</td>\n",
       "      <td>269</td>\n",
       "      <td>2223</td>\n",
       "      <td>19038338</td>\n",
       "    </tr>\n",
       "    <tr>\n",
       "      <th>3</th>\n",
       "      <td>2000</td>\n",
       "      <td>222</td>\n",
       "      <td>2145</td>\n",
       "      <td>19272644</td>\n",
       "    </tr>\n",
       "    <tr>\n",
       "      <th>4</th>\n",
       "      <td>2001</td>\n",
       "      <td>261</td>\n",
       "      <td>2196</td>\n",
       "      <td>19533972</td>\n",
       "    </tr>\n",
       "    <tr>\n",
       "      <th>5</th>\n",
       "      <td>2002</td>\n",
       "      <td>217</td>\n",
       "      <td>2103</td>\n",
       "      <td>19770963</td>\n",
       "    </tr>\n",
       "    <tr>\n",
       "      <th>6</th>\n",
       "      <td>2003</td>\n",
       "      <td>193</td>\n",
       "      <td>2021</td>\n",
       "      <td>20011882</td>\n",
       "    </tr>\n",
       "    <tr>\n",
       "      <th>7</th>\n",
       "      <td>2004</td>\n",
       "      <td>167</td>\n",
       "      <td>1931</td>\n",
       "      <td>20252132</td>\n",
       "    </tr>\n",
       "    <tr>\n",
       "      <th>8</th>\n",
       "      <td>2005</td>\n",
       "      <td>147</td>\n",
       "      <td>1955</td>\n",
       "      <td>20544064</td>\n",
       "    </tr>\n",
       "    <tr>\n",
       "      <th>9</th>\n",
       "      <td>2006</td>\n",
       "      <td>155</td>\n",
       "      <td>1606</td>\n",
       "      <td>20873663</td>\n",
       "    </tr>\n",
       "  </tbody>\n",
       "</table>\n",
       "</div>"
      ],
      "text/plain": [
       "   Year  Firearms  Other  Population\n",
       "0  1997       329   2393    18609115\n",
       "1  1998       235   2448    18814276\n",
       "2  1999       269   2223    19038338\n",
       "3  2000       222   2145    19272644\n",
       "4  2001       261   2196    19533972\n",
       "5  2002       217   2103    19770963\n",
       "6  2003       193   2021    20011882\n",
       "7  2004       167   1931    20252132\n",
       "8  2005       147   1955    20544064\n",
       "9  2006       155   1606    20873663"
      ]
     },
     "execution_count": 25,
     "metadata": {},
     "output_type": "execute_result"
    }
   ],
   "source": [
    "Aus"
   ]
  },
  {
   "cell_type": "code",
   "execution_count": 26,
   "metadata": {
    "collapsed": false,
    "deletable": true,
    "editable": true
   },
   "outputs": [],
   "source": [
    "Aus['Firearm_Suicide_Rate'] = Aus['Firearms']/Aus['Population']*100000"
   ]
  },
  {
   "cell_type": "code",
   "execution_count": 27,
   "metadata": {
    "collapsed": true,
    "deletable": true,
    "editable": true
   },
   "outputs": [],
   "source": [
    "Aus['Other_Suicide_Rate'] = Aus['Other']/Aus['Population']*100000"
   ]
  },
  {
   "cell_type": "code",
   "execution_count": 28,
   "metadata": {
    "collapsed": false,
    "deletable": true,
    "editable": true
   },
   "outputs": [],
   "source": [
    "Aus_Firearm = Aus.copy()"
   ]
  },
  {
   "cell_type": "code",
   "execution_count": 29,
   "metadata": {
    "collapsed": true,
    "deletable": true,
    "editable": true
   },
   "outputs": [],
   "source": [
    "Aus_Firearm.rename(columns={'Firearm_Suicide_Rate':'Suicide_Rate'}, inplace=True)"
   ]
  },
  {
   "cell_type": "code",
   "execution_count": 30,
   "metadata": {
    "collapsed": true,
    "deletable": true,
    "editable": true
   },
   "outputs": [],
   "source": [
    "Aus_Firearm['Suicide_Method']='Firearm'"
   ]
  },
  {
   "cell_type": "code",
   "execution_count": 31,
   "metadata": {
    "collapsed": false,
    "deletable": true,
    "editable": true
   },
   "outputs": [],
   "source": [
    "Aus_Firearm.drop(['Firearms','Other','Population','Other_Suicide_Rate'],axis=1,inplace=True)"
   ]
  },
  {
   "cell_type": "code",
   "execution_count": 32,
   "metadata": {
    "collapsed": true,
    "deletable": true,
    "editable": true
   },
   "outputs": [],
   "source": [
    "Aus_Other = Aus.copy()"
   ]
  },
  {
   "cell_type": "code",
   "execution_count": 33,
   "metadata": {
    "collapsed": true,
    "deletable": true,
    "editable": true
   },
   "outputs": [],
   "source": [
    "Aus_Other.rename(columns={'Other_Suicide_Rate':'Suicide_Rate'}, inplace=True)"
   ]
  },
  {
   "cell_type": "code",
   "execution_count": 34,
   "metadata": {
    "collapsed": true,
    "deletable": true,
    "editable": true
   },
   "outputs": [],
   "source": [
    "Aus_Other['Suicide_Method']='Other'"
   ]
  },
  {
   "cell_type": "code",
   "execution_count": 35,
   "metadata": {
    "collapsed": true,
    "deletable": true,
    "editable": true
   },
   "outputs": [],
   "source": [
    "Aus_Other.drop(['Firearms','Other','Population','Firearm_Suicide_Rate'],axis=1,inplace=True)"
   ]
  },
  {
   "cell_type": "code",
   "execution_count": 36,
   "metadata": {
    "collapsed": true,
    "deletable": true,
    "editable": true
   },
   "outputs": [],
   "source": [
    "Aus_Final=Aus_Firearm.append(Aus_Other)"
   ]
  },
  {
   "cell_type": "code",
   "execution_count": 37,
   "metadata": {
    "collapsed": false,
    "deletable": true,
    "editable": true
   },
   "outputs": [
    {
     "data": {
      "text/html": [
       "<div>\n",
       "<style>\n",
       "    .dataframe thead tr:only-child th {\n",
       "        text-align: right;\n",
       "    }\n",
       "\n",
       "    .dataframe thead th {\n",
       "        text-align: left;\n",
       "    }\n",
       "\n",
       "    .dataframe tbody tr th {\n",
       "        vertical-align: top;\n",
       "    }\n",
       "</style>\n",
       "<table border=\"1\" class=\"dataframe\">\n",
       "  <thead>\n",
       "    <tr style=\"text-align: right;\">\n",
       "      <th></th>\n",
       "      <th>Year</th>\n",
       "      <th>Suicide_Rate</th>\n",
       "      <th>Suicide_Method</th>\n",
       "    </tr>\n",
       "  </thead>\n",
       "  <tbody>\n",
       "    <tr>\n",
       "      <th>0</th>\n",
       "      <td>1997</td>\n",
       "      <td>1.767951</td>\n",
       "      <td>Firearm</td>\n",
       "    </tr>\n",
       "    <tr>\n",
       "      <th>1</th>\n",
       "      <td>1998</td>\n",
       "      <td>1.249052</td>\n",
       "      <td>Firearm</td>\n",
       "    </tr>\n",
       "    <tr>\n",
       "      <th>2</th>\n",
       "      <td>1999</td>\n",
       "      <td>1.412938</td>\n",
       "      <td>Firearm</td>\n",
       "    </tr>\n",
       "    <tr>\n",
       "      <th>3</th>\n",
       "      <td>2000</td>\n",
       "      <td>1.151892</td>\n",
       "      <td>Firearm</td>\n",
       "    </tr>\n",
       "    <tr>\n",
       "      <th>4</th>\n",
       "      <td>2001</td>\n",
       "      <td>1.336134</td>\n",
       "      <td>Firearm</td>\n",
       "    </tr>\n",
       "    <tr>\n",
       "      <th>5</th>\n",
       "      <td>2002</td>\n",
       "      <td>1.097569</td>\n",
       "      <td>Firearm</td>\n",
       "    </tr>\n",
       "    <tr>\n",
       "      <th>6</th>\n",
       "      <td>2003</td>\n",
       "      <td>0.964427</td>\n",
       "      <td>Firearm</td>\n",
       "    </tr>\n",
       "    <tr>\n",
       "      <th>7</th>\n",
       "      <td>2004</td>\n",
       "      <td>0.824605</td>\n",
       "      <td>Firearm</td>\n",
       "    </tr>\n",
       "    <tr>\n",
       "      <th>8</th>\n",
       "      <td>2005</td>\n",
       "      <td>0.715535</td>\n",
       "      <td>Firearm</td>\n",
       "    </tr>\n",
       "    <tr>\n",
       "      <th>9</th>\n",
       "      <td>2006</td>\n",
       "      <td>0.742563</td>\n",
       "      <td>Firearm</td>\n",
       "    </tr>\n",
       "    <tr>\n",
       "      <th>0</th>\n",
       "      <td>1997</td>\n",
       "      <td>12.859290</td>\n",
       "      <td>Other</td>\n",
       "    </tr>\n",
       "    <tr>\n",
       "      <th>1</th>\n",
       "      <td>1998</td>\n",
       "      <td>13.011396</td>\n",
       "      <td>Other</td>\n",
       "    </tr>\n",
       "    <tr>\n",
       "      <th>2</th>\n",
       "      <td>1999</td>\n",
       "      <td>11.676439</td>\n",
       "      <td>Other</td>\n",
       "    </tr>\n",
       "    <tr>\n",
       "      <th>3</th>\n",
       "      <td>2000</td>\n",
       "      <td>11.129765</td>\n",
       "      <td>Other</td>\n",
       "    </tr>\n",
       "    <tr>\n",
       "      <th>4</th>\n",
       "      <td>2001</td>\n",
       "      <td>11.241953</td>\n",
       "      <td>Other</td>\n",
       "    </tr>\n",
       "    <tr>\n",
       "      <th>5</th>\n",
       "      <td>2002</td>\n",
       "      <td>10.636811</td>\n",
       "      <td>Other</td>\n",
       "    </tr>\n",
       "    <tr>\n",
       "      <th>6</th>\n",
       "      <td>2003</td>\n",
       "      <td>10.099000</td>\n",
       "      <td>Other</td>\n",
       "    </tr>\n",
       "    <tr>\n",
       "      <th>7</th>\n",
       "      <td>2004</td>\n",
       "      <td>9.534799</td>\n",
       "      <td>Other</td>\n",
       "    </tr>\n",
       "    <tr>\n",
       "      <th>8</th>\n",
       "      <td>2005</td>\n",
       "      <td>9.516131</td>\n",
       "      <td>Other</td>\n",
       "    </tr>\n",
       "    <tr>\n",
       "      <th>9</th>\n",
       "      <td>2006</td>\n",
       "      <td>7.693906</td>\n",
       "      <td>Other</td>\n",
       "    </tr>\n",
       "  </tbody>\n",
       "</table>\n",
       "</div>"
      ],
      "text/plain": [
       "   Year  Suicide_Rate Suicide_Method\n",
       "0  1997      1.767951        Firearm\n",
       "1  1998      1.249052        Firearm\n",
       "2  1999      1.412938        Firearm\n",
       "3  2000      1.151892        Firearm\n",
       "4  2001      1.336134        Firearm\n",
       "5  2002      1.097569        Firearm\n",
       "6  2003      0.964427        Firearm\n",
       "7  2004      0.824605        Firearm\n",
       "8  2005      0.715535        Firearm\n",
       "9  2006      0.742563        Firearm\n",
       "0  1997     12.859290          Other\n",
       "1  1998     13.011396          Other\n",
       "2  1999     11.676439          Other\n",
       "3  2000     11.129765          Other\n",
       "4  2001     11.241953          Other\n",
       "5  2002     10.636811          Other\n",
       "6  2003     10.099000          Other\n",
       "7  2004      9.534799          Other\n",
       "8  2005      9.516131          Other\n",
       "9  2006      7.693906          Other"
      ]
     },
     "execution_count": 37,
     "metadata": {},
     "output_type": "execute_result"
    }
   ],
   "source": [
    "Aus_Final"
   ]
  },
  {
   "cell_type": "code",
   "execution_count": 38,
   "metadata": {
    "collapsed": false,
    "deletable": true,
    "editable": true
   },
   "outputs": [
    {
     "data": {
      "image/png": "[encoded data removed]",
      "text/plain": [
       "<matplotlib.figure.Figure at 0xf0b5630>"
      ]
     },
     "metadata": {},
     "output_type": "display_data"
    }
   ],
   "source": [
    "sns.factorplot(x='Year',y='Suicide_Rate',hue='Suicide_Method',data=Aus_Final,aspect=3);"
   ]
  },
  {
   "cell_type": "markdown",
   "metadata": {
    "deletable": true,
    "editable": true
   },
   "source": [
    "________________________________________________________________________________________________________________________________"
   ]
  },
  {
   "cell_type": "markdown",
   "metadata": {
    "deletable": true,
    "editable": true
   },
   "source": [
    "\n",
    "### Chart III   <img src=\"Decep_Image2.jpg\" width=\"400\" height=\"400\" align=\"right\"/>\n",
    "\n",
    "\n",
    "The author claims that in states with more guns, more police officers are also killed on duty and uses graph 14 to make this claim. [Cited Source](https://ajph.aphapublications.org/doi/full/10.2105/AJPH.2015.302749)\n",
    "\n",
    "The research document concludes that high public gun ownership is a risk for occupational mortality for Law Enforcement Officers\n",
    "\n",
    "|                                           | Low Gun States  | High Gun States  |\n",
    "|-------------------------------------------|-----------------|------------------|\n",
    "| Avg Household Firearm Ownership Levels,%  |      13.5       |      52.0        |\n",
    "| LEOs employed 1996-2010,no.               |    2777567      |     2759590      |\n",
    "| Total Homicides 1996 -2010,no.            |       85        |       263        |\n",
    "| Homicide rate per 10,000 LEOs             |      0.31       |       0.95       |\n",
    "    \n",
    "\n",
    "### Rebuttal:\n",
    "\n",
    "1. **Claim**: LEO homicide rates are three times higher in states with higher gun rate of gunownership\n",
    "\n",
    "   **Counter**: The rate difference, it is 0.31 vs 0.95 (rate calculated as homicides per 10,000 LEOs), i.e. it is a very small number if converted to absolute terms. \n",
    "   \n",
    "   The firearm deaths of Law Enforcement officers per year is on an avg. 55 (avg on years 2008 to 2012) (source: [Law Enforcement Deaths & Causes Data](http://www.nleomf.org/facts/officer-fatalities-data/causes.html)), so if we compare it per state, it is in the range of 1 to 2 officers. \n",
    "   \n",
    "   If we then compare the rate difference between the states with higher firearms vs without, it is a comparison between 2/1/0 officers. \n",
    "   \n",
    "   These numbers are really small and insignificant, to say that the difference is solely due to higher number of guns in each state.\n",
    "   \n",
    "   **Conclusion**: We cannot conclude that higher gun ownership leads to higher LEO deaths by firearms\n",
    "   \n",
    "   **References**:\n",
    "   \n",
    "   [Law Enforcement Employment Data](https://www.bjs.gov/content/pub/pdf/nsleed.pdf)\n",
    "   \n",
    "   \n",
    "2. **Relevance Argument:** If we look at the larger picture and compare the absolute firearm deaths of police men with the total firearm homicides, in the same duration, one would see that the police homicide rates are simply irrelevant for a discussion on gun violence i.e. the total homicide rates are a bigger issue, and could be used to persuade the audience towards gun control measures better than using the LEO death rates\n",
    "\n",
    "\n",
    "**Analysis:**\n",
    "\n",
    "1. Collating the Law Enforcement Officers Fatality numbers for the years 2008 to 2017 and filtered just the deaths caused due to firearms\n",
    "\n",
    "2. Collated the total firearm homicide deaths in the same duration\n",
    "\n",
    "3. Comparison Chart between the homicide death and the LEO death numbes caused by firearms\n"
   ]
  },
  {
   "cell_type": "code",
   "execution_count": 39,
   "metadata": {
    "collapsed": true,
    "deletable": true,
    "editable": true
   },
   "outputs": [],
   "source": [
    "import requests\n",
    "import pandas as pd"
   ]
  },
  {
   "cell_type": "markdown",
   "metadata": {
    "deletable": true,
    "editable": true
   },
   "source": [
    "**2008 to 2017 LEO firearm deaths**\n",
    "\n",
    "source: [National LEO Memorial Fund](http://www.nleomf.org/facts/officer-fatalities-data/causes.html) "
   ]
  },
  {
   "cell_type": "code",
   "execution_count": 40,
   "metadata": {
    "collapsed": false,
    "deletable": true,
    "editable": true
   },
   "outputs": [],
   "source": [
    "url = 'http://www.nleomf.org/facts/officer-fatalities-data/causes.html'\n",
    "html = requests.get(url).content\n",
    "df_list = pd.read_html(html)"
   ]
  },
  {
   "cell_type": "code",
   "execution_count": 41,
   "metadata": {
    "collapsed": false,
    "deletable": true,
    "editable": true
   },
   "outputs": [],
   "source": [
    "leo_fatality = pd.DataFrame(df_list[0])"
   ]
  },
  {
   "cell_type": "code",
   "execution_count": 42,
   "metadata": {
    "collapsed": true,
    "deletable": true,
    "editable": true
   },
   "outputs": [],
   "source": [
    "col_list={0:'Method',1:2008,2:2009,3:2010,4:2011,5:2012,6:2013,7:2014,8:2015,9:2016,10:2017,11:'Total'}"
   ]
  },
  {
   "cell_type": "code",
   "execution_count": 43,
   "metadata": {
    "collapsed": true,
    "deletable": true,
    "editable": true
   },
   "outputs": [],
   "source": [
    "leo_fatality.rename(columns=col_list,inplace=True)"
   ]
  },
  {
   "cell_type": "code",
   "execution_count": 44,
   "metadata": {
    "collapsed": false,
    "deletable": true,
    "editable": true
   },
   "outputs": [],
   "source": [
    "leo_fatality=leo_fatality.dropna()"
   ]
  },
  {
   "cell_type": "code",
   "execution_count": 45,
   "metadata": {
    "collapsed": false,
    "deletable": true,
    "editable": true
   },
   "outputs": [],
   "source": [
    "leo_fatality=leo_fatality[(leo_fatality.Method=='Bomb-Related Incident') | (leo_fatality.Method=='Shot')]"
   ]
  },
  {
   "cell_type": "code",
   "execution_count": 46,
   "metadata": {
    "collapsed": false,
    "deletable": true,
    "editable": true
   },
   "outputs": [
    {
     "data": {
      "text/html": [
       "<div>\n",
       "<style>\n",
       "    .dataframe thead tr:only-child th {\n",
       "        text-align: right;\n",
       "    }\n",
       "\n",
       "    .dataframe thead th {\n",
       "        text-align: left;\n",
       "    }\n",
       "\n",
       "    .dataframe tbody tr th {\n",
       "        vertical-align: top;\n",
       "    }\n",
       "</style>\n",
       "<table border=\"1\" class=\"dataframe\">\n",
       "  <thead>\n",
       "    <tr style=\"text-align: right;\">\n",
       "      <th></th>\n",
       "      <th>Method</th>\n",
       "      <th>2008</th>\n",
       "      <th>2009</th>\n",
       "      <th>2010</th>\n",
       "      <th>2011</th>\n",
       "      <th>2012</th>\n",
       "      <th>2013</th>\n",
       "      <th>2014</th>\n",
       "      <th>2015</th>\n",
       "      <th>2016</th>\n",
       "      <th>2017</th>\n",
       "      <th>Total</th>\n",
       "    </tr>\n",
       "  </thead>\n",
       "  <tbody>\n",
       "    <tr>\n",
       "      <th>6</th>\n",
       "      <td>Bomb-Related Incident</td>\n",
       "      <td>2</td>\n",
       "      <td>0</td>\n",
       "      <td>0</td>\n",
       "      <td>1</td>\n",
       "      <td>0</td>\n",
       "      <td>1</td>\n",
       "      <td>0</td>\n",
       "      <td>6</td>\n",
       "      <td>0</td>\n",
       "      <td>0</td>\n",
       "      <td>10</td>\n",
       "    </tr>\n",
       "    <tr>\n",
       "      <th>14</th>\n",
       "      <td>Shot</td>\n",
       "      <td>41</td>\n",
       "      <td>50</td>\n",
       "      <td>60</td>\n",
       "      <td>73</td>\n",
       "      <td>50</td>\n",
       "      <td>34</td>\n",
       "      <td>50</td>\n",
       "      <td>43</td>\n",
       "      <td>67</td>\n",
       "      <td>46</td>\n",
       "      <td>514</td>\n",
       "    </tr>\n",
       "  </tbody>\n",
       "</table>\n",
       "</div>"
      ],
      "text/plain": [
       "                   Method  2008  2009  2010  2011  2012  2013  2014  2015  \\\n",
       "6   Bomb-Related Incident     2     0     0     1     0     1     0     6   \n",
       "14                   Shot    41    50    60    73    50    34    50    43   \n",
       "\n",
       "    2016  2017 Total  \n",
       "6      0     0    10  \n",
       "14    67    46   514  "
      ]
     },
     "execution_count": 46,
     "metadata": {},
     "output_type": "execute_result"
    }
   ],
   "source": [
    "leo_fatality"
   ]
  },
  {
   "cell_type": "code",
   "execution_count": 47,
   "metadata": {
    "collapsed": false,
    "deletable": true,
    "editable": true
   },
   "outputs": [],
   "source": [
    "leo_fatality['Total']=pd.to_numeric(leo_fatality['Total'])"
   ]
  },
  {
   "cell_type": "code",
   "execution_count": 48,
   "metadata": {
    "collapsed": false,
    "deletable": true,
    "editable": true,
    "scrolled": true
   },
   "outputs": [],
   "source": [
    "leo_fatality=leo_fatality.append(leo_fatality.sum(numeric_only=True), ignore_index=True)"
   ]
  },
  {
   "cell_type": "code",
   "execution_count": 49,
   "metadata": {
    "collapsed": false,
    "deletable": true,
    "editable": true
   },
   "outputs": [],
   "source": [
    "leo_fatality=leo_fatality.fillna('Deaths')"
   ]
  },
  {
   "cell_type": "code",
   "execution_count": 50,
   "metadata": {
    "collapsed": false,
    "deletable": true,
    "editable": true
   },
   "outputs": [],
   "source": [
    "leo_fatality1=pd.DataFrame(leo_fatality.iloc[2]).reset_index()"
   ]
  },
  {
   "cell_type": "code",
   "execution_count": 51,
   "metadata": {
    "collapsed": false,
    "deletable": true,
    "editable": true
   },
   "outputs": [],
   "source": [
    "leo_fatality1=leo_fatality[2:]"
   ]
  },
  {
   "cell_type": "code",
   "execution_count": 52,
   "metadata": {
    "collapsed": true,
    "deletable": true,
    "editable": true
   },
   "outputs": [],
   "source": [
    "leo_fatality1=leo_fatality1.transpose().reset_index()"
   ]
  },
  {
   "cell_type": "code",
   "execution_count": 53,
   "metadata": {
    "collapsed": false,
    "deletable": true,
    "editable": true
   },
   "outputs": [],
   "source": [
    "leo_fatality1.rename(columns={'index':'Year',2:'Deaths'},inplace=True)"
   ]
  },
  {
   "cell_type": "code",
   "execution_count": 54,
   "metadata": {
    "collapsed": false,
    "deletable": true,
    "editable": true
   },
   "outputs": [],
   "source": [
    "leo_fatality1=leo_fatality1[1:]"
   ]
  },
  {
   "cell_type": "code",
   "execution_count": 55,
   "metadata": {
    "collapsed": true,
    "deletable": true,
    "editable": true
   },
   "outputs": [],
   "source": [
    "leo_fatality1=leo_fatality1[:-1]"
   ]
  },
  {
   "cell_type": "code",
   "execution_count": 56,
   "metadata": {
    "collapsed": false,
    "deletable": true,
    "editable": true
   },
   "outputs": [],
   "source": [
    "leo_fatality1['Year']=pd.to_numeric(leo_fatality1['Year'])"
   ]
  },
  {
   "cell_type": "code",
   "execution_count": 57,
   "metadata": {
    "collapsed": true,
    "deletable": true,
    "editable": true
   },
   "outputs": [],
   "source": [
    "leo_fatality1['Category']='PoliceDeaths_Firearm'"
   ]
  },
  {
   "cell_type": "code",
   "execution_count": 58,
   "metadata": {
    "collapsed": false,
    "deletable": true,
    "editable": true
   },
   "outputs": [
    {
     "data": {
      "text/html": [
       "<div>\n",
       "<style>\n",
       "    .dataframe thead tr:only-child th {\n",
       "        text-align: right;\n",
       "    }\n",
       "\n",
       "    .dataframe thead th {\n",
       "        text-align: left;\n",
       "    }\n",
       "\n",
       "    .dataframe tbody tr th {\n",
       "        vertical-align: top;\n",
       "    }\n",
       "</style>\n",
       "<table border=\"1\" class=\"dataframe\">\n",
       "  <thead>\n",
       "    <tr style=\"text-align: right;\">\n",
       "      <th></th>\n",
       "      <th>Year</th>\n",
       "      <th>Deaths</th>\n",
       "      <th>Category</th>\n",
       "    </tr>\n",
       "  </thead>\n",
       "  <tbody>\n",
       "    <tr>\n",
       "      <th>1</th>\n",
       "      <td>2008</td>\n",
       "      <td>43</td>\n",
       "      <td>PoliceDeaths_Firearm</td>\n",
       "    </tr>\n",
       "    <tr>\n",
       "      <th>2</th>\n",
       "      <td>2009</td>\n",
       "      <td>50</td>\n",
       "      <td>PoliceDeaths_Firearm</td>\n",
       "    </tr>\n",
       "    <tr>\n",
       "      <th>3</th>\n",
       "      <td>2010</td>\n",
       "      <td>60</td>\n",
       "      <td>PoliceDeaths_Firearm</td>\n",
       "    </tr>\n",
       "    <tr>\n",
       "      <th>4</th>\n",
       "      <td>2011</td>\n",
       "      <td>74</td>\n",
       "      <td>PoliceDeaths_Firearm</td>\n",
       "    </tr>\n",
       "    <tr>\n",
       "      <th>5</th>\n",
       "      <td>2012</td>\n",
       "      <td>50</td>\n",
       "      <td>PoliceDeaths_Firearm</td>\n",
       "    </tr>\n",
       "    <tr>\n",
       "      <th>6</th>\n",
       "      <td>2013</td>\n",
       "      <td>35</td>\n",
       "      <td>PoliceDeaths_Firearm</td>\n",
       "    </tr>\n",
       "    <tr>\n",
       "      <th>7</th>\n",
       "      <td>2014</td>\n",
       "      <td>50</td>\n",
       "      <td>PoliceDeaths_Firearm</td>\n",
       "    </tr>\n",
       "    <tr>\n",
       "      <th>8</th>\n",
       "      <td>2015</td>\n",
       "      <td>49</td>\n",
       "      <td>PoliceDeaths_Firearm</td>\n",
       "    </tr>\n",
       "    <tr>\n",
       "      <th>9</th>\n",
       "      <td>2016</td>\n",
       "      <td>67</td>\n",
       "      <td>PoliceDeaths_Firearm</td>\n",
       "    </tr>\n",
       "    <tr>\n",
       "      <th>10</th>\n",
       "      <td>2017</td>\n",
       "      <td>46</td>\n",
       "      <td>PoliceDeaths_Firearm</td>\n",
       "    </tr>\n",
       "  </tbody>\n",
       "</table>\n",
       "</div>"
      ],
      "text/plain": [
       "    Year Deaths              Category\n",
       "1   2008     43  PoliceDeaths_Firearm\n",
       "2   2009     50  PoliceDeaths_Firearm\n",
       "3   2010     60  PoliceDeaths_Firearm\n",
       "4   2011     74  PoliceDeaths_Firearm\n",
       "5   2012     50  PoliceDeaths_Firearm\n",
       "6   2013     35  PoliceDeaths_Firearm\n",
       "7   2014     50  PoliceDeaths_Firearm\n",
       "8   2015     49  PoliceDeaths_Firearm\n",
       "9   2016     67  PoliceDeaths_Firearm\n",
       "10  2017     46  PoliceDeaths_Firearm"
      ]
     },
     "execution_count": 58,
     "metadata": {},
     "output_type": "execute_result"
    }
   ],
   "source": [
    "leo_fatality1"
   ]
  },
  {
   "cell_type": "markdown",
   "metadata": {
    "deletable": true,
    "editable": true
   },
   "source": [
    "**2008 to 2016 firearm related homicide deaths**\n",
    "\n",
    "source: [Mortality rates from cdc gov](https://webappa.cdc.gov/sasweb/ncipc/mortrate.html) "
   ]
  },
  {
   "cell_type": "code",
   "execution_count": 59,
   "metadata": {
    "collapsed": true,
    "deletable": true,
    "editable": true
   },
   "outputs": [],
   "source": [
    "total_firearm_homicides=pd.read_csv('2008-16Homicides.csv')"
   ]
  },
  {
   "cell_type": "code",
   "execution_count": 60,
   "metadata": {
    "collapsed": false,
    "deletable": true,
    "editable": true
   },
   "outputs": [],
   "source": [
    "total_firearm_homicides=total_firearm_homicides.dropna() # drops the total column"
   ]
  },
  {
   "cell_type": "code",
   "execution_count": 61,
   "metadata": {
    "collapsed": true,
    "deletable": true,
    "editable": true
   },
   "outputs": [],
   "source": [
    "total_firearm_homicides=total_firearm_homicides[['Year','Deaths']]"
   ]
  },
  {
   "cell_type": "code",
   "execution_count": 62,
   "metadata": {
    "collapsed": true,
    "deletable": true,
    "editable": true
   },
   "outputs": [],
   "source": [
    "total_firearm_homicides['Category']='TotalFirearmHomicides'"
   ]
  },
  {
   "cell_type": "code",
   "execution_count": 63,
   "metadata": {
    "collapsed": false,
    "deletable": true,
    "editable": true
   },
   "outputs": [
    {
     "data": {
      "text/html": [
       "<div>\n",
       "<style>\n",
       "    .dataframe thead tr:only-child th {\n",
       "        text-align: right;\n",
       "    }\n",
       "\n",
       "    .dataframe thead th {\n",
       "        text-align: left;\n",
       "    }\n",
       "\n",
       "    .dataframe tbody tr th {\n",
       "        vertical-align: top;\n",
       "    }\n",
       "</style>\n",
       "<table border=\"1\" class=\"dataframe\">\n",
       "  <thead>\n",
       "    <tr style=\"text-align: right;\">\n",
       "      <th></th>\n",
       "      <th>Year</th>\n",
       "      <th>Deaths</th>\n",
       "      <th>Category</th>\n",
       "    </tr>\n",
       "  </thead>\n",
       "  <tbody>\n",
       "    <tr>\n",
       "      <th>0</th>\n",
       "      <td>2008.0</td>\n",
       "      <td>12179</td>\n",
       "      <td>TotalFirearmHomicides</td>\n",
       "    </tr>\n",
       "    <tr>\n",
       "      <th>1</th>\n",
       "      <td>2009.0</td>\n",
       "      <td>11493</td>\n",
       "      <td>TotalFirearmHomicides</td>\n",
       "    </tr>\n",
       "    <tr>\n",
       "      <th>2</th>\n",
       "      <td>2010.0</td>\n",
       "      <td>11078</td>\n",
       "      <td>TotalFirearmHomicides</td>\n",
       "    </tr>\n",
       "    <tr>\n",
       "      <th>3</th>\n",
       "      <td>2011.0</td>\n",
       "      <td>11068</td>\n",
       "      <td>TotalFirearmHomicides</td>\n",
       "    </tr>\n",
       "    <tr>\n",
       "      <th>4</th>\n",
       "      <td>2012.0</td>\n",
       "      <td>11622</td>\n",
       "      <td>TotalFirearmHomicides</td>\n",
       "    </tr>\n",
       "    <tr>\n",
       "      <th>5</th>\n",
       "      <td>2013.0</td>\n",
       "      <td>11208</td>\n",
       "      <td>TotalFirearmHomicides</td>\n",
       "    </tr>\n",
       "    <tr>\n",
       "      <th>6</th>\n",
       "      <td>2014.0</td>\n",
       "      <td>11008</td>\n",
       "      <td>TotalFirearmHomicides</td>\n",
       "    </tr>\n",
       "    <tr>\n",
       "      <th>7</th>\n",
       "      <td>2015.0</td>\n",
       "      <td>12979</td>\n",
       "      <td>TotalFirearmHomicides</td>\n",
       "    </tr>\n",
       "    <tr>\n",
       "      <th>8</th>\n",
       "      <td>2016.0</td>\n",
       "      <td>14415</td>\n",
       "      <td>TotalFirearmHomicides</td>\n",
       "    </tr>\n",
       "  </tbody>\n",
       "</table>\n",
       "</div>"
      ],
      "text/plain": [
       "     Year  Deaths               Category\n",
       "0  2008.0   12179  TotalFirearmHomicides\n",
       "1  2009.0   11493  TotalFirearmHomicides\n",
       "2  2010.0   11078  TotalFirearmHomicides\n",
       "3  2011.0   11068  TotalFirearmHomicides\n",
       "4  2012.0   11622  TotalFirearmHomicides\n",
       "5  2013.0   11208  TotalFirearmHomicides\n",
       "6  2014.0   11008  TotalFirearmHomicides\n",
       "7  2015.0   12979  TotalFirearmHomicides\n",
       "8  2016.0   14415  TotalFirearmHomicides"
      ]
     },
     "execution_count": 63,
     "metadata": {},
     "output_type": "execute_result"
    }
   ],
   "source": [
    "total_firearm_homicides"
   ]
  },
  {
   "cell_type": "code",
   "execution_count": 64,
   "metadata": {
    "collapsed": true,
    "deletable": true,
    "editable": true
   },
   "outputs": [],
   "source": [
    "final=leo_fatality1.append(total_firearm_homicides)"
   ]
  },
  {
   "cell_type": "code",
   "execution_count": 65,
   "metadata": {
    "collapsed": false,
    "deletable": true,
    "editable": true
   },
   "outputs": [
    {
     "data": {
      "text/html": [
       "<div>\n",
       "<style>\n",
       "    .dataframe thead tr:only-child th {\n",
       "        text-align: right;\n",
       "    }\n",
       "\n",
       "    .dataframe thead th {\n",
       "        text-align: left;\n",
       "    }\n",
       "\n",
       "    .dataframe tbody tr th {\n",
       "        vertical-align: top;\n",
       "    }\n",
       "</style>\n",
       "<table border=\"1\" class=\"dataframe\">\n",
       "  <thead>\n",
       "    <tr style=\"text-align: right;\">\n",
       "      <th></th>\n",
       "      <th>Year</th>\n",
       "      <th>Deaths</th>\n",
       "      <th>Category</th>\n",
       "    </tr>\n",
       "  </thead>\n",
       "  <tbody>\n",
       "    <tr>\n",
       "      <th>1</th>\n",
       "      <td>2008.0</td>\n",
       "      <td>43</td>\n",
       "      <td>PoliceDeaths_Firearm</td>\n",
       "    </tr>\n",
       "    <tr>\n",
       "      <th>2</th>\n",
       "      <td>2009.0</td>\n",
       "      <td>50</td>\n",
       "      <td>PoliceDeaths_Firearm</td>\n",
       "    </tr>\n",
       "    <tr>\n",
       "      <th>3</th>\n",
       "      <td>2010.0</td>\n",
       "      <td>60</td>\n",
       "      <td>PoliceDeaths_Firearm</td>\n",
       "    </tr>\n",
       "    <tr>\n",
       "      <th>4</th>\n",
       "      <td>2011.0</td>\n",
       "      <td>74</td>\n",
       "      <td>PoliceDeaths_Firearm</td>\n",
       "    </tr>\n",
       "    <tr>\n",
       "      <th>5</th>\n",
       "      <td>2012.0</td>\n",
       "      <td>50</td>\n",
       "      <td>PoliceDeaths_Firearm</td>\n",
       "    </tr>\n",
       "    <tr>\n",
       "      <th>6</th>\n",
       "      <td>2013.0</td>\n",
       "      <td>35</td>\n",
       "      <td>PoliceDeaths_Firearm</td>\n",
       "    </tr>\n",
       "    <tr>\n",
       "      <th>7</th>\n",
       "      <td>2014.0</td>\n",
       "      <td>50</td>\n",
       "      <td>PoliceDeaths_Firearm</td>\n",
       "    </tr>\n",
       "    <tr>\n",
       "      <th>8</th>\n",
       "      <td>2015.0</td>\n",
       "      <td>49</td>\n",
       "      <td>PoliceDeaths_Firearm</td>\n",
       "    </tr>\n",
       "    <tr>\n",
       "      <th>9</th>\n",
       "      <td>2016.0</td>\n",
       "      <td>67</td>\n",
       "      <td>PoliceDeaths_Firearm</td>\n",
       "    </tr>\n",
       "    <tr>\n",
       "      <th>10</th>\n",
       "      <td>2017.0</td>\n",
       "      <td>46</td>\n",
       "      <td>PoliceDeaths_Firearm</td>\n",
       "    </tr>\n",
       "    <tr>\n",
       "      <th>0</th>\n",
       "      <td>2008.0</td>\n",
       "      <td>12179</td>\n",
       "      <td>TotalFirearmHomicides</td>\n",
       "    </tr>\n",
       "    <tr>\n",
       "      <th>1</th>\n",
       "      <td>2009.0</td>\n",
       "      <td>11493</td>\n",
       "      <td>TotalFirearmHomicides</td>\n",
       "    </tr>\n",
       "    <tr>\n",
       "      <th>2</th>\n",
       "      <td>2010.0</td>\n",
       "      <td>11078</td>\n",
       "      <td>TotalFirearmHomicides</td>\n",
       "    </tr>\n",
       "    <tr>\n",
       "      <th>3</th>\n",
       "      <td>2011.0</td>\n",
       "      <td>11068</td>\n",
       "      <td>TotalFirearmHomicides</td>\n",
       "    </tr>\n",
       "    <tr>\n",
       "      <th>4</th>\n",
       "      <td>2012.0</td>\n",
       "      <td>11622</td>\n",
       "      <td>TotalFirearmHomicides</td>\n",
       "    </tr>\n",
       "    <tr>\n",
       "      <th>5</th>\n",
       "      <td>2013.0</td>\n",
       "      <td>11208</td>\n",
       "      <td>TotalFirearmHomicides</td>\n",
       "    </tr>\n",
       "    <tr>\n",
       "      <th>6</th>\n",
       "      <td>2014.0</td>\n",
       "      <td>11008</td>\n",
       "      <td>TotalFirearmHomicides</td>\n",
       "    </tr>\n",
       "    <tr>\n",
       "      <th>7</th>\n",
       "      <td>2015.0</td>\n",
       "      <td>12979</td>\n",
       "      <td>TotalFirearmHomicides</td>\n",
       "    </tr>\n",
       "    <tr>\n",
       "      <th>8</th>\n",
       "      <td>2016.0</td>\n",
       "      <td>14415</td>\n",
       "      <td>TotalFirearmHomicides</td>\n",
       "    </tr>\n",
       "  </tbody>\n",
       "</table>\n",
       "</div>"
      ],
      "text/plain": [
       "      Year Deaths               Category\n",
       "1   2008.0     43   PoliceDeaths_Firearm\n",
       "2   2009.0     50   PoliceDeaths_Firearm\n",
       "3   2010.0     60   PoliceDeaths_Firearm\n",
       "4   2011.0     74   PoliceDeaths_Firearm\n",
       "5   2012.0     50   PoliceDeaths_Firearm\n",
       "6   2013.0     35   PoliceDeaths_Firearm\n",
       "7   2014.0     50   PoliceDeaths_Firearm\n",
       "8   2015.0     49   PoliceDeaths_Firearm\n",
       "9   2016.0     67   PoliceDeaths_Firearm\n",
       "10  2017.0     46   PoliceDeaths_Firearm\n",
       "0   2008.0  12179  TotalFirearmHomicides\n",
       "1   2009.0  11493  TotalFirearmHomicides\n",
       "2   2010.0  11078  TotalFirearmHomicides\n",
       "3   2011.0  11068  TotalFirearmHomicides\n",
       "4   2012.0  11622  TotalFirearmHomicides\n",
       "5   2013.0  11208  TotalFirearmHomicides\n",
       "6   2014.0  11008  TotalFirearmHomicides\n",
       "7   2015.0  12979  TotalFirearmHomicides\n",
       "8   2016.0  14415  TotalFirearmHomicides"
      ]
     },
     "execution_count": 65,
     "metadata": {},
     "output_type": "execute_result"
    }
   ],
   "source": [
    "final"
   ]
  },
  {
   "cell_type": "code",
   "execution_count": 66,
   "metadata": {
    "collapsed": false,
    "deletable": true,
    "editable": true,
    "scrolled": true
   },
   "outputs": [
    {
     "data": {
      "image/png": "[encoded data removed]",
      "text/plain": [
       "<matplotlib.figure.Figure at 0x11596e80>"
      ]
     },
     "metadata": {},
     "output_type": "display_data"
    }
   ],
   "source": [
    "g=sns.factorplot(x='Year',y='Deaths',hue='Category',data=final,aspect=3)\n",
    "g.set(title =\"Firearm Homicides in the United States - Law Officers Vs Total\");"
   ]
  },
  {
   "cell_type": "markdown",
   "metadata": {
    "deletable": true,
    "editable": true
   },
   "source": [
    "**This graph clearly shows that the total fire arm homicide is a stronger and a more important evidence for gun violence issues.**"
   ]
  },
  {
   "cell_type": "markdown",
   "metadata": {
    "deletable": true,
    "editable": true
   },
   "source": [
    "________________________________________________________________________________________________________________________________\n"
   ]
  },
  {
   "cell_type": "markdown",
   "metadata": {
    "deletable": true,
    "editable": true
   },
   "source": [
    "### Overall Future Enhancements"
   ]
  },
  {
   "cell_type": "markdown",
   "metadata": {
    "deletable": true,
    "editable": true
   },
   "source": [
    "1. I would focus on better visualization - e.g. use of colors for graphs\n",
    "\n",
    "2. I would try to format the document better to make it completely reproducible\n",
    "\n",
    "3. I would like to see if I can build a good case for show casing America's Unique Gun Violence Problem using my first three redesigned graphs and the graphs used in this assignment."
   ]
  }
 ],
 "metadata": {
  "kernelspec": {
   "display_name": "Python 2",
   "language": "python",
   "name": "python2"
  },
  "language_info": {
   "codemirror_mode": {
    "name": "ipython",
    "version": 2
   },
   "file_extension": ".py",
   "mimetype": "text/x-python",
   "name": "python",
   "nbconvert_exporter": "python",
   "pygments_lexer": "ipython2",
   "version": "2.7.13"
  }
 },
 "nbformat": 4,
 "nbformat_minor": 0
}
