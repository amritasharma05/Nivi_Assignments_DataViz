{
 "cells": [
  {
   "cell_type": "code",
   "execution_count": 2,
   "metadata": {
    "collapsed": false
   },
   "outputs": [
    {
     "name": "stdout",
     "output_type": "stream",
     "text": [
      "Populating the interactive namespace from numpy and matplotlib\n"
     ]
    }
   ],
   "source": [
    "import pandas as pd\n",
    "import numpy as np\n",
    "import seaborn as sns\n",
    "%pylab inline\n",
    "import sklearn as sk"
   ]
  },
  {
   "cell_type": "code",
   "execution_count": 3,
   "metadata": {
    "collapsed": true
   },
   "outputs": [],
   "source": [
    "import pandas as pd\n",
    "from pandas import ExcelWriter\n",
    "from pandas import ExcelFile"
   ]
  },
  {
   "cell_type": "code",
   "execution_count": 34,
   "metadata": {
    "collapsed": false
   },
   "outputs": [],
   "source": [
    "FireArmTotal = pd.read_csv('FireArmTotalDeaths.csv')"
   ]
  },
  {
   "cell_type": "code",
   "execution_count": 35,
   "metadata": {
    "collapsed": false
   },
   "outputs": [],
   "source": [
    "FireArmHomicide=pd.read_csv('FireArmHomicide.csv')"
   ]
  },
  {
   "cell_type": "code",
   "execution_count": 36,
   "metadata": {
    "collapsed": true
   },
   "outputs": [],
   "source": [
    "FireArmSuicide=pd.read_csv('FireArmSuicides.csv')"
   ]
  },
  {
   "cell_type": "code",
   "execution_count": 37,
   "metadata": {
    "collapsed": false
   },
   "outputs": [],
   "source": [
    "FireArmTotalDeathsCombined = pd.merge(FireArmTotal,FireArmHomicide,on='RowId')"
   ]
  },
  {
   "cell_type": "code",
   "execution_count": 38,
   "metadata": {
    "collapsed": false,
    "scrolled": false
   },
   "outputs": [
    {
     "data": {
      "text/html": [
       "<div>\n",
       "<style>\n",
       "    .dataframe thead tr:only-child th {\n",
       "        text-align: right;\n",
       "    }\n",
       "\n",
       "    .dataframe thead th {\n",
       "        text-align: left;\n",
       "    }\n",
       "\n",
       "    .dataframe tbody tr th {\n",
       "        vertical-align: top;\n",
       "    }\n",
       "</style>\n",
       "<table border=\"1\" class=\"dataframe\">\n",
       "  <thead>\n",
       "    <tr style=\"text-align: right;\">\n",
       "      <th></th>\n",
       "      <th>RowId</th>\n",
       "      <th>Sex_x</th>\n",
       "      <th>Cause of Death_x</th>\n",
       "      <th>Year_x</th>\n",
       "      <th>AllFireArmDeath</th>\n",
       "      <th>Population_x</th>\n",
       "      <th>AllFireArmDeathRate</th>\n",
       "      <th>Age-Adjusted Rate_x</th>\n",
       "      <th>Sex_y</th>\n",
       "      <th>Cause of Death_y</th>\n",
       "      <th>Year_y</th>\n",
       "      <th>FireArmHomicide</th>\n",
       "      <th>Population_y</th>\n",
       "      <th>FirearmHomicideRate</th>\n",
       "      <th>Age-Adjusted Rate_y</th>\n",
       "    </tr>\n",
       "  </thead>\n",
       "  <tbody>\n",
       "    <tr>\n",
       "      <th>0</th>\n",
       "      <td>Females2000</td>\n",
       "      <td>Females</td>\n",
       "      <td>Firearm</td>\n",
       "      <td>2000</td>\n",
       "      <td>4081</td>\n",
       "      <td>143713786</td>\n",
       "      <td>2.84</td>\n",
       "      <td>2.832594812</td>\n",
       "      <td>Females</td>\n",
       "      <td>Homicide Firearm</td>\n",
       "      <td>2000</td>\n",
       "      <td>1795</td>\n",
       "      <td>143713786</td>\n",
       "      <td>1.25</td>\n",
       "      <td>1.251097447</td>\n",
       "    </tr>\n",
       "  </tbody>\n",
       "</table>\n",
       "</div>"
      ],
      "text/plain": [
       "         RowId    Sex_x Cause of Death_x  Year_x  AllFireArmDeath  \\\n",
       "0  Females2000  Females          Firearm    2000             4081   \n",
       "\n",
       "   Population_x  AllFireArmDeathRate Age-Adjusted Rate_x    Sex_y  \\\n",
       "0     143713786                 2.84         2.832594812  Females   \n",
       "\n",
       "   Cause of Death_y  Year_y  FireArmHomicide  Population_y  \\\n",
       "0  Homicide Firearm    2000             1795     143713786   \n",
       "\n",
       "   FirearmHomicideRate Age-Adjusted Rate_y  \n",
       "0                 1.25         1.251097447  "
      ]
     },
     "execution_count": 38,
     "metadata": {},
     "output_type": "execute_result"
    }
   ],
   "source": [
    "FireArmTotalDeathsCombined.head(1)"
   ]
  },
  {
   "cell_type": "code",
   "execution_count": 39,
   "metadata": {
    "collapsed": true
   },
   "outputs": [],
   "source": [
    "FireArmTotalDeathsCombined.rename(columns={'Sex_x':'Sex','Cause of Death_x':'Cause of Death','Year_x':'Year','Population_x':'Population','Age-Adjusted Rate_x':'Age-Adjusted Rate'},inplace=True)"
   ]
  },
  {
   "cell_type": "code",
   "execution_count": 40,
   "metadata": {
    "collapsed": true
   },
   "outputs": [],
   "source": [
    "FireArmTotalDeathsCombined.drop(['Sex_y','Cause of Death_y','Population_y','Year_y','Age-Adjusted Rate_y'],axis=1,inplace=True)"
   ]
  },
  {
   "cell_type": "code",
   "execution_count": 41,
   "metadata": {
    "collapsed": true
   },
   "outputs": [],
   "source": [
    "FireArmTotalDeathsCombined1=pd.merge(FireArmTotalDeathsCombined,FireArmSuicide,on='RowId')"
   ]
  },
  {
   "cell_type": "code",
   "execution_count": 46,
   "metadata": {
    "collapsed": false,
    "scrolled": true
   },
   "outputs": [
    {
     "data": {
      "text/html": [
       "<div>\n",
       "<style>\n",
       "    .dataframe thead tr:only-child th {\n",
       "        text-align: right;\n",
       "    }\n",
       "\n",
       "    .dataframe thead th {\n",
       "        text-align: left;\n",
       "    }\n",
       "\n",
       "    .dataframe tbody tr th {\n",
       "        vertical-align: top;\n",
       "    }\n",
       "</style>\n",
       "<table border=\"1\" class=\"dataframe\">\n",
       "  <thead>\n",
       "    <tr style=\"text-align: right;\">\n",
       "      <th></th>\n",
       "      <th>RowId</th>\n",
       "      <th>Sex</th>\n",
       "      <th>Cause of Death</th>\n",
       "      <th>Year</th>\n",
       "      <th>AllFireArmDeath</th>\n",
       "      <th>Population</th>\n",
       "      <th>AllFireArmDeathRate</th>\n",
       "      <th>Age-Adjusted Rate</th>\n",
       "      <th>FireArmHomicide</th>\n",
       "      <th>FirearmHomicideRate</th>\n",
       "      <th>FireArmSuicide</th>\n",
       "      <th>FireArmSuicideRate</th>\n",
       "    </tr>\n",
       "  </thead>\n",
       "  <tbody>\n",
       "    <tr>\n",
       "      <th>0</th>\n",
       "      <td>Females2000</td>\n",
       "      <td>Females</td>\n",
       "      <td>Firearm</td>\n",
       "      <td>2000</td>\n",
       "      <td>4081</td>\n",
       "      <td>143713786</td>\n",
       "      <td>2.84</td>\n",
       "      <td>2.832594812</td>\n",
       "      <td>1795</td>\n",
       "      <td>1.25</td>\n",
       "      <td>2132</td>\n",
       "      <td>1.48</td>\n",
       "    </tr>\n",
       "  </tbody>\n",
       "</table>\n",
       "</div>"
      ],
      "text/plain": [
       "         RowId      Sex Cause of Death  Year  AllFireArmDeath  Population  \\\n",
       "0  Females2000  Females        Firearm  2000             4081   143713786   \n",
       "\n",
       "   AllFireArmDeathRate Age-Adjusted Rate  FireArmHomicide  \\\n",
       "0                 2.84       2.832594812             1795   \n",
       "\n",
       "   FirearmHomicideRate  FireArmSuicide  FireArmSuicideRate  \n",
       "0                 1.25            2132                1.48  "
      ]
     },
     "execution_count": 46,
     "metadata": {},
     "output_type": "execute_result"
    }
   ],
   "source": [
    "FireArmTotalDeathsCombined1.head(1)"
   ]
  },
  {
   "cell_type": "code",
   "execution_count": 43,
   "metadata": {
    "collapsed": false
   },
   "outputs": [],
   "source": [
    "FireArmTotalDeathsCombined1.rename(columns={'Sex_x':'Sex','Cause of Death_x':'Cause of Death','Year_x':'Year','Population_x':'Population','Age-Adjusted Rate_x':'Age-Adjusted Rate'},inplace=True)"
   ]
  },
  {
   "cell_type": "code",
   "execution_count": 45,
   "metadata": {
    "collapsed": true
   },
   "outputs": [],
   "source": [
    "FireArmTotalDeathsCombined1.drop(['Sex_y','Cause of Death_y','Population_y','Year_y','Age-Adjusted Rate_y'],axis=1,inplace=True)"
   ]
  },
  {
   "cell_type": "code",
   "execution_count": 221,
   "metadata": {
    "collapsed": true
   },
   "outputs": [],
   "source": [
    "FireArmTotalDeathsCombined1.to_csv('FireArmTotalDeaths - Combined.csv')"
   ]
  },
  {
   "cell_type": "code",
   "execution_count": null,
   "metadata": {
    "collapsed": true
   },
   "outputs": [],
   "source": []
  },
  {
   "cell_type": "code",
   "execution_count": null,
   "metadata": {
    "collapsed": true
   },
   "outputs": [],
   "source": []
  }
 ],
 "metadata": {
  "kernelspec": {
   "display_name": "Python 2",
   "language": "python",
   "name": "python2"
  },
  "language_info": {
   "codemirror_mode": {
    "name": "ipython",
    "version": 2
   },
   "file_extension": ".py",
   "mimetype": "text/x-python",
   "name": "python",
   "nbconvert_exporter": "python",
   "pygments_lexer": "ipython2",
   "version": "2.7.11"
  }
 },
 "nbformat": 4,
 "nbformat_minor": 0
}
